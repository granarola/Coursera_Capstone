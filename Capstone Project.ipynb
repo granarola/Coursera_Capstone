import padas as pd
import numpy as np
print("Hello Capstone Project Course!")
