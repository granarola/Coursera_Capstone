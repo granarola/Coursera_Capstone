# this file will be used for data capstone
import padas as pd
import numpy as np
print("Hello Capstone Project Course!")
